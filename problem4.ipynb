{
 "cells": [
  {
   "cell_type": "markdown",
   "metadata": {},
   "source": [
    "MNIST Training Set"
   ]
  },
  {
   "cell_type": "code",
   "execution_count": 2,
   "metadata": {
    "collapsed": true
   },
   "outputs": [],
   "source": [
    "from scipy.io import loadmat\n",
    "import numpy as np\n",
    "\n",
    "mat_data = loadmat('Problem4/mnist-original.mat')"
   ]
  },
  {
   "cell_type": "code",
   "execution_count": 2,
   "metadata": {
    "collapsed": true
   },
   "outputs": [],
   "source": [
    "X = np.array(mat_data['data'])\n",
    "X = X.transpose()    # make X into n x d\n",
    "y = np.array(mat_data['label'])\n",
    "y = y.transpose()    # make y into n x 1\n",
    "\n",
    "X = (X - np.min(X)) / (np.max(X) - np.min(X)) # min-max scaling"
   ]
  },
  {
   "cell_type": "code",
   "execution_count": 3,
   "metadata": {
    "collapsed": true
   },
   "outputs": [],
   "source": [
    "from Problem4.knn import train_validation_test_split\n",
    "\n",
    "train_X, train_y, validation_X, validation_y, test_X, test_y = train_validation_test_split(X, y)"
   ]
  },
  {
   "cell_type": "code",
   "execution_count": 13,
   "metadata": {},
   "outputs": [
    {
     "name": "stdout",
     "output_type": "stream",
     "text": [
      "Number of train data points:  (56000, 784)\nNumber of validation data points:  (7000, 784)\nNumber of test data points:  (7000, 784)\n"
     ]
    }
   ],
   "source": [
    "print(\"Number of train data points: \", train_X.shape)\n",
    "print(\"Number of validation data points: \", validation_X.shape)\n",
    "print(\"Number of test data points: \", test_X.shape)"
   ]
  },
  {
   "cell_type": "code",
   "execution_count": 14,
   "metadata": {},
   "outputs": [
    {
     "name": "stdout",
     "output_type": "stream",
     "text": [
      "Number of train data points:  (56000, 1)\nNumber of validation data points:  (7000, 1)\nNumber of test data points:  (7000, 1)\n"
     ]
    }
   ],
   "source": [
    "print(\"Number of train data points: \", train_y.shape)\n",
    "print(\"Number of validation data points: \", validation_y.shape)\n",
    "print(\"Number of test data points: \", test_y.shape)"
   ]
  },
  {
   "cell_type": "code",
   "execution_count": 15,
   "metadata": {},
   "outputs": [
    {
     "name": "stdout",
     "output_type": "stream",
     "text": [
      "Training Performance:  0.0\n"
     ]
    }
   ],
   "source": [
    "from Problem4.knn import knn_test\n",
    "\n",
    "print(\"Training Performance: \", knn_test(train_X[:1000, :], train_y[:1000, :], validation_X[:10, :], validation_y[:10, :], 5))"
   ]
  },
  {
   "cell_type": "code",
   "execution_count": 16,
   "metadata": {},
   "outputs": [
    {
     "name": "stdout",
     "output_type": "stream",
     "text": [
      "Testing Performance:  0.0\n"
     ]
    }
   ],
   "source": [
    "print(\"Testing Performance: \", knn_test(train_X[:1000, :], train_y[:1000, :], test_X[:10, :], test_y[:10, :], 5))"
   ]
  },
  {
   "cell_type": "markdown",
   "metadata": {},
   "source": [
    "20 News Group Training Set"
   ]
  },
  {
   "cell_type": "code",
   "execution_count": 2,
   "metadata": {},
   "outputs": [],
   "source": [
    "from Problem3.text_parser import parse\n",
    "\n",
    "word_dict, label_dict, unigram_mat, sizes \\\n",
    "    = parse(['Problem3/20news-bydate/20news-bydate-train', \\\n",
    "            'Problem3/20news-bydate/20news-bydate-test'])"
   ]
  },
  {
   "cell_type": "code",
   "execution_count": 3,
   "metadata": {},
   "outputs": [
    {
     "ename": "NameError",
     "evalue": "name 'unigram_mat' is not defined",
     "traceback": [
      "\u001b[0;31m---------------------------------------------------------------------------\u001b[0m",
      "\u001b[0;31mNameError\u001b[0m                                 Traceback (most recent call last)",
      "\u001b[0;32m<ipython-input-3-79ad0744f1e8>\u001b[0m in \u001b[0;36m<module>\u001b[0;34m()\u001b[0m\n\u001b[0;32m----> 1\u001b[0;31m \u001b[0mdata\u001b[0m \u001b[0;34m=\u001b[0m \u001b[0mnp\u001b[0m\u001b[0;34m.\u001b[0m\u001b[0marray\u001b[0m\u001b[0;34m(\u001b[0m\u001b[0munigram_mat\u001b[0m\u001b[0;34m)\u001b[0m\u001b[0;34m\u001b[0m\u001b[0m\n\u001b[0m",
      "\u001b[0;31mNameError\u001b[0m: name 'unigram_mat' is not defined"
     ],
     "output_type": "error"
    }
   ],
   "source": [
    "# data = np.array(unigram_mat)"
   ]
  },
  {
   "cell_type": "code",
   "execution_count": 6,
   "metadata": {
    "collapsed": false
   },
   "outputs": [
    {
     "data": {
      "text/plain": [
       "(3855, 75986)"
      ]
     },
     "execution_count": 6,
     "metadata": {},
     "output_type": "execute_result"
    }
   ],
   "source": [
    "data.shape"
   ]
  },
  {
   "cell_type": "code",
   "execution_count": 23,
   "metadata": {},
   "outputs": [],
   "source": [
    "X = data[:, :data.shape[1] - 1]\n",
    "y = data[:, data.shape[1] - 1]\n",
    "y = y.reshape(len(y), 1)"
   ]
  },
  {
   "cell_type": "code",
   "execution_count": 26,
   "metadata": {},
   "outputs": [],
   "source": [
    "train_X, train_y, validation_X, validation_y, test_X, test_y = train_validation_test_split(X, y)"
   ]
  },
  {
   "cell_type": "code",
   "execution_count": 32,
   "metadata": {},
   "outputs": [],
   "source": [
    "train_X = np.concatenate((train_X, test_X), axis=0)\n",
    "train_y = np.concatenate((train_y, test_y), axis=0)"
   ]
  },
  {
   "cell_type": "code",
   "execution_count": 35,
   "metadata": {},
   "outputs": [
    {
     "name": "stdout",
     "output_type": "stream",
     "text": [
      "Number of train data points:  (3470, 75985)\nNumber of validation data points:  (385, 75985)\nNumber of test data points:  (386, 75985)\n"
     ]
    }
   ],
   "source": [
    "print(\"Number of train data points: \", train_X.shape)\n",
    "print(\"Number of validation data points: \", validation_X.shape)\n",
    "print(\"Number of test data points: \", test_X.shape)"
   ]
  },
  {
   "cell_type": "code",
   "execution_count": 36,
   "metadata": {},
   "outputs": [
    {
     "name": "stdout",
     "output_type": "stream",
     "text": [
      "Training Performance:  0.6\n"
     ]
    }
   ],
   "source": [
    "print(\"Training Performance: \", knn_test(train_X[:1000, :], train_y[:1000, :], validation_X[:10, :], validation_y[:10, :], 5))"
   ]
  },
  {
   "cell_type": "code",
   "execution_count": 37,
   "metadata": {},
   "outputs": [
    {
     "name": "stdout",
     "output_type": "stream",
     "text": [
      "Testing Performance:  0.9\n"
     ]
    }
   ],
   "source": [
    "print(\"Testing Performance: \", knn_test(train_X[:1000, :], train_y[:1000, :], test_X[:10, :], test_y[:10, :], 5))"
   ]
  },
  {
   "cell_type": "code",
   "execution_count": 4,
   "metadata": {},
   "outputs": [],
   "source": [
    "import numpy as np\n",
    "\n",
    "data = np.load('Problem3/sample.npy')"
   ]
  },
  {
   "cell_type": "code",
   "execution_count": 5,
   "metadata": {},
   "outputs": [
    {
     "data": {
      "text/plain": [
       "(3855, 75986)"
      ]
     },
     "execution_count": 5,
     "metadata": {},
     "output_type": "execute_result"
    }
   ],
   "source": [
    "data.shape"
   ]
  },
  {
   "cell_type": "code",
   "execution_count": null,
   "metadata": {},
   "outputs": [],
   "source": []
  }
 ],
 "metadata": {
  "kernelspec": {
   "display_name": "Python 3",
   "language": "python",
   "name": "python3"
  },
  "language_info": {
   "codemirror_mode": {
    "name": "ipython",
    "version": 3
   },
   "file_extension": ".py",
   "mimetype": "text/x-python",
   "name": "python",
   "nbconvert_exporter": "python",
   "pygments_lexer": "ipython3",
   "version": "3.6.1"
  }
 },
 "nbformat": 4,
 "nbformat_minor": 1
}
